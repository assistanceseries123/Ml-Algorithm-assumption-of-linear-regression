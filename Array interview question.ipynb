{
 "cells": [
  {
   "cell_type": "raw",
   "id": "a2a60c76",
   "metadata": {},
   "source": [
    "Points to remember\n",
    "Codes asked are relatively easier in comparison to SDE roles\n",
    "Pythonic syntax is preferred in most companies\n",
    "Focus is on optimized code\n",
    "Start with the simplest solution and then improve\n",
    "A lot of questions are repeated so mugging up the approaches help\n",
    "Build intuition using Python Tutor"
   ]
  },
  {
   "cell_type": "code",
   "execution_count": 1,
   "id": "34736072",
   "metadata": {},
   "outputs": [
    {
     "name": "stdout",
     "output_type": "stream",
     "text": [
      "23\n"
     ]
    }
   ],
   "source": [
    "#1.Find the kth largest/smallest item from a list\n",
    "L=[12,23,1,4,56,34,22,3]\n",
    "k=3\n",
    "L.sort(reverse=True)\n",
    "print(L[k-1])"
   ]
  },
  {
   "cell_type": "code",
   "execution_count": 2,
   "id": "2ffb4f2e",
   "metadata": {},
   "outputs": [
    {
     "name": "stdout",
     "output_type": "stream",
     "text": [
      "Sorted\n"
     ]
    }
   ],
   "source": [
    "#Check if array is soreted\n",
    "L=[1,2,3,4,5]\n",
    "flag=True\n",
    "for i in range(0,len(L)-1):\n",
    "    if L[i]>L[i+1]:\n",
    "        flag=False\n",
    "if flag:\n",
    "    print(\"Sorted\")\n",
    "else:\n",
    "    print(\"NOt sorted\")"
   ]
  },
  {
   "cell_type": "code",
   "execution_count": 3,
   "id": "6605b8bf",
   "metadata": {},
   "outputs": [
    {
     "name": "stdout",
     "output_type": "stream",
     "text": [
      "54\n"
     ]
    }
   ],
   "source": [
    "#Find min/max in a given array\n",
    "L=[21,1,34,23,54,11,10]\n",
    "max_val=L[0]\n",
    "for i in L:\n",
    "    if i>max_val:\n",
    "        max_val=i\n",
    "print(max_val)"
   ]
  },
  {
   "cell_type": "code",
   "execution_count": 4,
   "id": "43fd349f",
   "metadata": {},
   "outputs": [
    {
     "name": "stdout",
     "output_type": "stream",
     "text": [
      "1\n"
     ]
    }
   ],
   "source": [
    "#Find the first element to occur k time in an array\n",
    "L=[1,1,2,3,4,4,5,5]\n",
    "k=2\n",
    "d={}\n",
    "for i in L:\n",
    "    if i in d:\n",
    "        d[i]=d[i]+1\n",
    "    else:\n",
    "        d[i]=1\n",
    "for i in d:\n",
    "    if d[i]==k:\n",
    "        print(i)\n",
    "        break"
   ]
  },
  {
   "cell_type": "code",
   "execution_count": 5,
   "id": "be4415fd",
   "metadata": {},
   "outputs": [
    {
     "name": "stdout",
     "output_type": "stream",
     "text": [
      "1\n",
      "4\n",
      "5\n"
     ]
    }
   ],
   "source": [
    "#Find duplicates in an array\n",
    "L=[1,1,2,3,4,4,5,5]\n",
    "d={}\n",
    "for i in L:\n",
    "    if i in d:\n",
    "        d[i]=d[i]+1\n",
    "    else:\n",
    "        d[i]=1\n",
    "for i in d:\n",
    "    if d[i]>1:\n",
    "        print(i)"
   ]
  },
  {
   "cell_type": "code",
   "execution_count": 6,
   "id": "51c9c026",
   "metadata": {},
   "outputs": [
    {
     "name": "stdout",
     "output_type": "stream",
     "text": [
      "[3, 4, 5, 1, 2]\n"
     ]
    }
   ],
   "source": [
    "#rotate array to left d items\n",
    "L=[1,2,3,4,5]\n",
    "rotate=2\n",
    "for i in range(rotate):\n",
    "    temp=L[0]\n",
    "    for j in range(0,len(L)-1):\n",
    "        L[j]=L[j+1]\n",
    "    L[len(L)-1]=temp\n",
    "print(L)"
   ]
  },
  {
   "cell_type": "code",
   "execution_count": 7,
   "id": "6094769d",
   "metadata": {},
   "outputs": [
    {
     "name": "stdout",
     "output_type": "stream",
     "text": [
      "3\n",
      "8\n"
     ]
    }
   ],
   "source": [
    "#Find insertion of 2 sorted arrays\n",
    "a=[1,2,3,4,5,8]\n",
    "b=[3,6,7,8]\n",
    "for i in a:\n",
    "    if i in b:\n",
    "        print(i)"
   ]
  },
  {
   "cell_type": "code",
   "execution_count": 8,
   "id": "2c49f0dd",
   "metadata": {},
   "outputs": [
    {
     "name": "stdout",
     "output_type": "stream",
     "text": [
      "3\n",
      "8\n"
     ]
    }
   ],
   "source": [
    "a=[1,2,3,4,5,8]\n",
    "b=[3,6,7,8]\n",
    "i=j=0\n",
    "while i<len(a) and j<len(b):\n",
    "    if a[i]==b[j]:\n",
    "        print(a[i])\n",
    "        i+=1\n",
    "        j+=1\n",
    "    elif a[i]>b[j]:\n",
    "        j+=1\n",
    "    else:\n",
    "        i+=1"
   ]
  },
  {
   "cell_type": "code",
   "execution_count": 9,
   "id": "d5489eb7",
   "metadata": {},
   "outputs": [
    {
     "name": "stdout",
     "output_type": "stream",
     "text": [
      "[11, 10]\n"
     ]
    }
   ],
   "source": [
    "# 8. Find continous subarray with a given sum(given non-negative numbers)\n",
    "# return the starting and ending index of the subarray\n",
    "# return 1st subarray in case of multiple\n",
    "L=[1,22,13,7,9,11,10]\n",
    "S=21\n",
    "for i in range(0,len(L)):\n",
    "    subarray=[]\n",
    "    for j in range(i,len(L)):\n",
    "        subarray.append(L[j])\n",
    "        if sum(subarray)==S:\n",
    "            print(subarray)"
   ]
  },
  {
   "cell_type": "code",
   "execution_count": 10,
   "id": "6ab17002",
   "metadata": {},
   "outputs": [
    {
     "name": "stdout",
     "output_type": "stream",
     "text": [
      "5 6\n"
     ]
    }
   ],
   "source": [
    "L=[1,22,13,7,9,11,10]\n",
    "S=21\n",
    "d={}\n",
    "curr_sum=0\n",
    "for i in range(len(L)):\n",
    "    curr_sum=curr_sum+L[i]\n",
    "    if (curr_sum-S) in d:\n",
    "        print(d[curr_sum-S]+1,i)\n",
    "        break\n",
    "    d[curr_sum]=i"
   ]
  },
  {
   "cell_type": "code",
   "execution_count": 11,
   "id": "9997d6f6",
   "metadata": {},
   "outputs": [
    {
     "name": "stdout",
     "output_type": "stream",
     "text": [
      "5\n"
     ]
    }
   ],
   "source": [
    "#find element with left side smaller /right side greater in an array\n",
    "L=[3,1,2,5,8,7,9]\n",
    "for i in range(1,len(L)-1):\n",
    "    flag=True\n",
    "    for j in range(0,i):\n",
    "        if L[j]>L[i]:\n",
    "            flag=False\n",
    "    for k in range(i+1,len(L)):\n",
    "        if L[k]<L[i]:\n",
    "            flag=False\n",
    "    if flag:\n",
    "        print(L[i])"
   ]
  },
  {
   "cell_type": "code",
   "execution_count": 12,
   "id": "ecad8372",
   "metadata": {},
   "outputs": [
    {
     "name": "stdout",
     "output_type": "stream",
     "text": [
      "5\n"
     ]
    }
   ],
   "source": [
    "L=[3,1,2,5,8,7,9]\n",
    "for i in range(1,len(L)-1):\n",
    "    if max(L[:i])<L[i]<min(L[i+1:]):\n",
    "        print(L[i])"
   ]
  },
  {
   "cell_type": "code",
   "execution_count": 15,
   "id": "3a98329c",
   "metadata": {},
   "outputs": [
    {
     "name": "stdout",
     "output_type": "stream",
     "text": [
      "5\n"
     ]
    }
   ],
   "source": [
    "#L=[3,1,2,5,8,7,9]\n",
    "#max_arr=[]\n",
    "#min_arr=[]\n",
    "#max_val=[]\n",
    "#min_val=[]\n",
    "#for i in L:\n",
    "#    if i > max_val:\n",
    "#        max_val=i\n",
    "#    max_arr.append(max_val)\n",
    "#for i in range(len(L)-1,-1,-1):\n",
    "#    if L[i]<min_val:\n",
    "#        min_val=L[i]\n",
    "#    min_arr.insert(0,min_val)\n",
    "#\n",
    "#for i in range(1,len(L)-1):\n",
    "#    if max_arr[i-1]<L[i]<min_arr[i+1]:\n",
    "#        print(L[i])\n",
    "\n",
    "L = [3,1,2,5,8,7,9]\n",
    "\n",
    "max_arr = []\n",
    "min_arr = []\n",
    "\n",
    "max_val = L[0]\n",
    "min_val = L[-1]\n",
    "\n",
    "for i in L:\n",
    "  if i>max_val:\n",
    "    max_val = i\n",
    "  max_arr.append(max_val)\n",
    "\n",
    "for i in range(len(L)-1,-1,-1):\n",
    "  if L[i] < min_val:\n",
    "    min_val = L[i]\n",
    "  \n",
    "  min_arr.insert(0,min_val)\n",
    "\n",
    "\n",
    "for i in range(1,len(L)-1):\n",
    "  if max_arr[i-1] < L[i] < min_arr[i+1]:\n",
    "    print(L[i])"
   ]
  },
  {
   "cell_type": "code",
   "execution_count": 16,
   "id": "da87bbe1",
   "metadata": {},
   "outputs": [
    {
     "name": "stdout",
     "output_type": "stream",
     "text": [
      "[4, 7, -1, 6, -11, 14, 3, -1, -6]\n"
     ]
    }
   ],
   "source": [
    "#Maximum sum subarray\n",
    "L=[-2,4,7,-1,6,-11,14,3,-1,-6]\n",
    "d={}\n",
    "for i in range(0,len(L)):\n",
    "    subarray=[]\n",
    "    for j in range(i,len(L)):\n",
    "        subarray.append(L[j])\n",
    "        d[sum(subarray)]=subarray\n",
    "\n",
    "max_val=max(d.keys())\n",
    "for i in d:\n",
    "    if i ==max_val:\n",
    "        print(d[i])"
   ]
  },
  {
   "cell_type": "code",
   "execution_count": 17,
   "id": "9ea3a212",
   "metadata": {},
   "outputs": [
    {
     "name": "stdout",
     "output_type": "stream",
     "text": [
      "22 [4, 7, -1, 6, -11, 14, 3, -1, -6]\n"
     ]
    }
   ],
   "source": [
    "L = [-2,4,7,-1,6,-11,14,3,-1,-6]\n",
    "curr_sum=0\n",
    "curr_seq=[]\n",
    "best_sum=L[0]\n",
    "best_seq=[]\n",
    "for i in L:\n",
    "    if i+curr_sum>i:\n",
    "        curr_sum=curr_sum+i\n",
    "        curr_seq.append(i)\n",
    "    else:\n",
    "        curr_sum=i\n",
    "        curr_seq.clear()\n",
    "        curr_seq.append(i)\n",
    "    if curr_sum>best_sum:\n",
    "        best_sum=curr_sum\n",
    "        best_seq=curr_seq\n",
    "print(best_sum,best_seq)"
   ]
  },
  {
   "cell_type": "code",
   "execution_count": null,
   "id": "c46371cf",
   "metadata": {},
   "outputs": [],
   "source": []
  }
 ],
 "metadata": {
  "kernelspec": {
   "display_name": "Python 3 (ipykernel)",
   "language": "python",
   "name": "python3"
  },
  "language_info": {
   "codemirror_mode": {
    "name": "ipython",
    "version": 3
   },
   "file_extension": ".py",
   "mimetype": "text/x-python",
   "name": "python",
   "nbconvert_exporter": "python",
   "pygments_lexer": "ipython3",
   "version": "3.11.3"
  }
 },
 "nbformat": 4,
 "nbformat_minor": 5
}
